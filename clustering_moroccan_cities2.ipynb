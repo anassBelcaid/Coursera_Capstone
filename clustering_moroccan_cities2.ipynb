{
 "cells": [
  {
   "cell_type": "markdown",
   "metadata": {},
   "source": [
    "# Morocco Cities Clustering"
   ]
  },
  {
   "cell_type": "markdown",
   "metadata": {},
   "source": [
    "## Introduction and description \n",
    "\n",
    "The goal of this project it to **cluster** the cities of my country **Morocco**. The clustering algorithm will use **geographical** data such as *population*, *number of hotels* and *number and type of industries**. This clustering could serve for serveral purposes:\n",
    "\n",
    "- Say I had to move from my current city, I would like to choose another city which is similar to my current city.\n",
    "\n",
    "- For a foreign tourist, Say you visited a city $A$ and you liked it but didn't like city $B$. In future visit to Morocco, you'll would like to avoid all the cities in the $B$ cluster and try to discover more cities in the $A$ cluster. Better application for this would be a **Recommender system** but can also use *clustering*.\n"
   ]
  },
  {
   "cell_type": "markdown",
   "metadata": {},
   "source": [
    "## Loading the data\n",
    "\n",
    "The data was already prepared in the previous week. It is a list of Moroccan cities with a set of features\n"
   ]
  },
  {
   "cell_type": "code",
   "execution_count": 11,
   "metadata": {},
   "outputs": [],
   "source": [
    "import pandas as pd\n",
    "import matplotlib.pyplot as plt\n",
    "import seaborn as sns\n",
    "%matplotlib inline"
   ]
  },
  {
   "cell_type": "code",
   "execution_count": 97,
   "metadata": {},
   "outputs": [
    {
     "data": {
      "text/html": [
       "<div>\n",
       "<style scoped>\n",
       "    .dataframe tbody tr th:only-of-type {\n",
       "        vertical-align: middle;\n",
       "    }\n",
       "\n",
       "    .dataframe tbody tr th {\n",
       "        vertical-align: top;\n",
       "    }\n",
       "\n",
       "    .dataframe thead th {\n",
       "        text-align: right;\n",
       "    }\n",
       "</style>\n",
       "<table border=\"1\" class=\"dataframe\">\n",
       "  <thead>\n",
       "    <tr style=\"text-align: right;\">\n",
       "      <th></th>\n",
       "      <th>Population</th>\n",
       "      <th>Region</th>\n",
       "      <th>latitude</th>\n",
       "      <th>longitude</th>\n",
       "      <th>Café</th>\n",
       "      <th>Hotel</th>\n",
       "      <th>Moroccan Restaurant</th>\n",
       "      <th>Coffee Shop</th>\n",
       "      <th>Diner</th>\n",
       "    </tr>\n",
       "    <tr>\n",
       "      <th>City</th>\n",
       "      <th></th>\n",
       "      <th></th>\n",
       "      <th></th>\n",
       "      <th></th>\n",
       "      <th></th>\n",
       "      <th></th>\n",
       "      <th></th>\n",
       "      <th></th>\n",
       "      <th></th>\n",
       "    </tr>\n",
       "  </thead>\n",
       "  <tbody>\n",
       "    <tr>\n",
       "      <th>Casablanca</th>\n",
       "      <td>3359818</td>\n",
       "      <td>Casablanca-Settat</td>\n",
       "      <td>33.595063</td>\n",
       "      <td>-7.618777</td>\n",
       "      <td>4.0</td>\n",
       "      <td>6.0</td>\n",
       "      <td>3.0</td>\n",
       "      <td>1.0</td>\n",
       "      <td>1.0</td>\n",
       "    </tr>\n",
       "    <tr>\n",
       "      <th>Fez</th>\n",
       "      <td>1112072</td>\n",
       "      <td>Fès-Meknès</td>\n",
       "      <td>34.034653</td>\n",
       "      <td>-5.016193</td>\n",
       "      <td>0.0</td>\n",
       "      <td>0.0</td>\n",
       "      <td>1.0</td>\n",
       "      <td>1.0</td>\n",
       "      <td>0.0</td>\n",
       "    </tr>\n",
       "    <tr>\n",
       "      <th>Tangier</th>\n",
       "      <td>947952</td>\n",
       "      <td>Tanger-Tetouan-Al Hoceima</td>\n",
       "      <td>35.777103</td>\n",
       "      <td>-5.803792</td>\n",
       "      <td>4.0</td>\n",
       "      <td>3.0</td>\n",
       "      <td>1.0</td>\n",
       "      <td>0.0</td>\n",
       "      <td>5.0</td>\n",
       "    </tr>\n",
       "    <tr>\n",
       "      <th>Marrakesh</th>\n",
       "      <td>928850</td>\n",
       "      <td>Marrakesh-Safi</td>\n",
       "      <td>31.625826</td>\n",
       "      <td>-7.989161</td>\n",
       "      <td>6.0</td>\n",
       "      <td>11.0</td>\n",
       "      <td>12.0</td>\n",
       "      <td>0.0</td>\n",
       "      <td>0.0</td>\n",
       "    </tr>\n",
       "    <tr>\n",
       "      <th>Salé</th>\n",
       "      <td>890403</td>\n",
       "      <td>Rabat-Salé-Kénitra</td>\n",
       "      <td>34.044889</td>\n",
       "      <td>-6.814017</td>\n",
       "      <td>1.0</td>\n",
       "      <td>0.0</td>\n",
       "      <td>0.0</td>\n",
       "      <td>0.0</td>\n",
       "      <td>0.0</td>\n",
       "    </tr>\n",
       "  </tbody>\n",
       "</table>\n",
       "</div>"
      ],
      "text/plain": [
       "            Population                     Region   latitude  longitude  Café  \\\n",
       "City                                                                            \n",
       "Casablanca     3359818          Casablanca-Settat  33.595063  -7.618777   4.0   \n",
       "Fez            1112072                 Fès-Meknès  34.034653  -5.016193   0.0   \n",
       "Tangier         947952  Tanger-Tetouan-Al Hoceima  35.777103  -5.803792   4.0   \n",
       "Marrakesh       928850             Marrakesh-Safi  31.625826  -7.989161   6.0   \n",
       "Salé            890403         Rabat-Salé-Kénitra  34.044889  -6.814017   1.0   \n",
       "\n",
       "            Hotel  Moroccan Restaurant  Coffee Shop  Diner  \n",
       "City                                                        \n",
       "Casablanca    6.0                  3.0          1.0    1.0  \n",
       "Fez           0.0                  1.0          1.0    0.0  \n",
       "Tangier       3.0                  1.0          0.0    5.0  \n",
       "Marrakesh    11.0                 12.0          0.0    0.0  \n",
       "Salé          0.0                  0.0          0.0    0.0  "
      ]
     },
     "execution_count": 97,
     "metadata": {},
     "output_type": "execute_result"
    }
   ],
   "source": [
    "data = pd.read_csv(\"morocan_cities.csv\" ,index_col=0)\n",
    "data.head()"
   ]
  },
  {
   "cell_type": "markdown",
   "metadata": {},
   "source": [
    "## Exploratory data analysis\n",
    "\n",
    "Let's plot some variables to see if there is a relation between the variables. But first I need to drop the `Region` field as it not a numeric variable."
   ]
  },
  {
   "cell_type": "code",
   "execution_count": 98,
   "metadata": {},
   "outputs": [
    {
     "data": {
      "text/html": [
       "<div>\n",
       "<style scoped>\n",
       "    .dataframe tbody tr th:only-of-type {\n",
       "        vertical-align: middle;\n",
       "    }\n",
       "\n",
       "    .dataframe tbody tr th {\n",
       "        vertical-align: top;\n",
       "    }\n",
       "\n",
       "    .dataframe thead th {\n",
       "        text-align: right;\n",
       "    }\n",
       "</style>\n",
       "<table border=\"1\" class=\"dataframe\">\n",
       "  <thead>\n",
       "    <tr style=\"text-align: right;\">\n",
       "      <th></th>\n",
       "      <th>Population</th>\n",
       "      <th>latitude</th>\n",
       "      <th>longitude</th>\n",
       "      <th>Café</th>\n",
       "      <th>Hotel</th>\n",
       "      <th>Moroccan Restaurant</th>\n",
       "      <th>Coffee Shop</th>\n",
       "      <th>Diner</th>\n",
       "    </tr>\n",
       "    <tr>\n",
       "      <th>City</th>\n",
       "      <th></th>\n",
       "      <th></th>\n",
       "      <th></th>\n",
       "      <th></th>\n",
       "      <th></th>\n",
       "      <th></th>\n",
       "      <th></th>\n",
       "      <th></th>\n",
       "    </tr>\n",
       "  </thead>\n",
       "  <tbody>\n",
       "    <tr>\n",
       "      <th>Casablanca</th>\n",
       "      <td>3359818</td>\n",
       "      <td>33.595063</td>\n",
       "      <td>-7.618777</td>\n",
       "      <td>4.0</td>\n",
       "      <td>6.0</td>\n",
       "      <td>3.0</td>\n",
       "      <td>1.0</td>\n",
       "      <td>1.0</td>\n",
       "    </tr>\n",
       "    <tr>\n",
       "      <th>Fez</th>\n",
       "      <td>1112072</td>\n",
       "      <td>34.034653</td>\n",
       "      <td>-5.016193</td>\n",
       "      <td>0.0</td>\n",
       "      <td>0.0</td>\n",
       "      <td>1.0</td>\n",
       "      <td>1.0</td>\n",
       "      <td>0.0</td>\n",
       "    </tr>\n",
       "    <tr>\n",
       "      <th>Tangier</th>\n",
       "      <td>947952</td>\n",
       "      <td>35.777103</td>\n",
       "      <td>-5.803792</td>\n",
       "      <td>4.0</td>\n",
       "      <td>3.0</td>\n",
       "      <td>1.0</td>\n",
       "      <td>0.0</td>\n",
       "      <td>5.0</td>\n",
       "    </tr>\n",
       "    <tr>\n",
       "      <th>Marrakesh</th>\n",
       "      <td>928850</td>\n",
       "      <td>31.625826</td>\n",
       "      <td>-7.989161</td>\n",
       "      <td>6.0</td>\n",
       "      <td>11.0</td>\n",
       "      <td>12.0</td>\n",
       "      <td>0.0</td>\n",
       "      <td>0.0</td>\n",
       "    </tr>\n",
       "    <tr>\n",
       "      <th>Salé</th>\n",
       "      <td>890403</td>\n",
       "      <td>34.044889</td>\n",
       "      <td>-6.814017</td>\n",
       "      <td>1.0</td>\n",
       "      <td>0.0</td>\n",
       "      <td>0.0</td>\n",
       "      <td>0.0</td>\n",
       "      <td>0.0</td>\n",
       "    </tr>\n",
       "  </tbody>\n",
       "</table>\n",
       "</div>"
      ],
      "text/plain": [
       "            Population   latitude  longitude  Café  Hotel  \\\n",
       "City                                                        \n",
       "Casablanca     3359818  33.595063  -7.618777   4.0    6.0   \n",
       "Fez            1112072  34.034653  -5.016193   0.0    0.0   \n",
       "Tangier         947952  35.777103  -5.803792   4.0    3.0   \n",
       "Marrakesh       928850  31.625826  -7.989161   6.0   11.0   \n",
       "Salé            890403  34.044889  -6.814017   1.0    0.0   \n",
       "\n",
       "            Moroccan Restaurant  Coffee Shop  Diner  \n",
       "City                                                 \n",
       "Casablanca                  3.0          1.0    1.0  \n",
       "Fez                         1.0          1.0    0.0  \n",
       "Tangier                     1.0          0.0    5.0  \n",
       "Marrakesh                  12.0          0.0    0.0  \n",
       "Salé                        0.0          0.0    0.0  "
      ]
     },
     "execution_count": 98,
     "metadata": {},
     "output_type": "execute_result"
    }
   ],
   "source": [
    "data.drop(['Region'], axis=1, inplace=True)\n",
    "data.head()"
   ]
  },
  {
   "cell_type": "markdown",
   "metadata": {},
   "source": [
    "## Population"
   ]
  },
  {
   "cell_type": "code",
   "execution_count": 26,
   "metadata": {},
   "outputs": [
    {
     "data": {
      "text/plain": [
       "Text(0.5, 1.0, 'Distribution plot for the population')"
      ]
     },
     "execution_count": 26,
     "metadata": {},
     "output_type": "execute_result"
    },
    {
     "data": {
      "image/png": "[encoded data removed]",
      "text/plain": [
       "<Figure size 720x360 with 2 Axes>"
      ]
     },
     "metadata": {
      "needs_background": "light"
     },
     "output_type": "display_data"
    }
   ],
   "source": [
    "fig, axs = plt.subplots(1,2,figsize=(10,5))\n",
    "\n",
    "#box plot\n",
    "data['Population'].plot(kind='box',ax=axs[0])\n",
    "sns.distplot(data.Population, ax=axs[1])\n",
    "axs[0].set_title(\"Box plot for the population\")\n",
    "axs[1].set_title(\"Distribution plot for the population\")"
   ]
  },
  {
   "cell_type": "markdown",
   "metadata": {},
   "source": [
    "    We can see the data is not well distributed as the city of `Casablanca` has almost all the mass. This will be a good feature for the clustering as it will differ crowdy and calm cities.    "
   ]
  },
  {
   "cell_type": "markdown",
   "metadata": {},
   "source": [
    "## Features venues variables\n",
    "\n",
    "Let's plot and see the values on the `venues` variables. This is data that was gathered for each town using the **foursquare** api"
   ]
  },
  {
   "cell_type": "code",
   "execution_count": 42,
   "metadata": {},
   "outputs": [],
   "source": [
    "venues = ['Café','Hotel', 'Moroccan Restaurant', 'Coffee Shop', 'Diner']"
   ]
  },
  {
   "cell_type": "code",
   "execution_count": 51,
   "metadata": {},
   "outputs": [
    {
     "data": {
      "text/plain": [
       "Text(0.5, 1.0, 'Distribution plot for the Café')"
      ]
     },
     "execution_count": 51,
     "metadata": {},
     "output_type": "execute_result"
    },
    {
     "data": {
      "image/png": "[encoded data removed]",
      "text/plain": [
       "<Figure size 720x360 with 2 Axes>"
      ]
     },
     "metadata": {
      "needs_background": "light"
     },
     "output_type": "display_data"
    }
   ],
   "source": [
    "fig, axs = plt.subplots(1,2,figsize=(10,5))\n",
    "\n",
    "#box plot\n",
    "data['Café'].plot(kind='box',ax=axs[0])\n",
    "sns.distplot(data['Café'], ax=axs[1])\n",
    "axs[0].set_title(\"Box plot for the Café\")\n",
    "axs[1].set_title(\"Distribution plot for the Café\")"
   ]
  },
  {
   "cell_type": "markdown",
   "metadata": {},
   "source": [
    "## Correlation\n",
    "Let plot and search if there is a correlation between the venues"
   ]
  },
  {
   "cell_type": "code",
   "execution_count": 56,
   "metadata": {},
   "outputs": [],
   "source": [
    "corr = data[venues].corr()"
   ]
  },
  {
   "cell_type": "code",
   "execution_count": 57,
   "metadata": {},
   "outputs": [
    {
     "data": {
      "text/plain": [
       "<matplotlib.axes._subplots.AxesSubplot at 0x7f043ad02e10>"
      ]
     },
     "execution_count": 57,
     "metadata": {},
     "output_type": "execute_result"
    },
    {
     "data": {
      "image/png": "[encoded data removed]",
      "text/plain": [
       "<Figure size 432x288 with 2 Axes>"
      ]
     },
     "metadata": {
      "needs_background": "light"
     },
     "output_type": "display_data"
    }
   ],
   "source": [
    "sns.heatmap(corr)"
   ]
  },
  {
   "cell_type": "markdown",
   "metadata": {},
   "source": [
    "We can remark that there is a strong correlation between `Café` and `Hotel` and `Moroccan Restaurant`"
   ]
  },
  {
   "cell_type": "markdown",
   "metadata": {},
   "source": [
    "to test that let's plot the the regression line between those two variables"
   ]
  },
  {
   "cell_type": "code",
   "execution_count": 60,
   "metadata": {},
   "outputs": [
    {
     "data": {
      "text/plain": [
       "Text(0.5, 1.0, 'Regression between Hotel and Moroccan Restaurant')"
      ]
     },
     "execution_count": 60,
     "metadata": {},
     "output_type": "execute_result"
    },
    {
     "data": {
      "image/png": "[encoded data removed]",
      "text/plain": [
       "<Figure size 720x360 with 2 Axes>"
      ]
     },
     "metadata": {
      "needs_background": "light"
     },
     "output_type": "display_data"
    }
   ],
   "source": [
    "fig, axs = plt.subplots(1,2,figsize=(10,5))\n",
    "sns.regplot(data['Café'], data['Hotel'],ax=axs[0])\n",
    "axs[0].set_title('Regression between Hotel and Café')\n",
    "sns.regplot(data['Café'], data['Moroccan Restaurant'],ax=axs[1])\n",
    "axs[1].set_title('Regression between Hotel and Moroccan Restaurant')\n"
   ]
  },
  {
   "cell_type": "markdown",
   "metadata": {},
   "source": [
    "## Data preparation for clustering\n",
    "\n",
    "The first step for the clustering is normalize the data"
   ]
  },
  {
   "cell_type": "code",
   "execution_count": 90,
   "metadata": {},
   "outputs": [],
   "source": [
    "from sklearn.preprocessing import StandardScaler"
   ]
  },
  {
   "cell_type": "code",
   "execution_count": 99,
   "metadata": {},
   "outputs": [],
   "source": [
    "normalizer = StandardScaler()"
   ]
  },
  {
   "cell_type": "code",
   "execution_count": 100,
   "metadata": {},
   "outputs": [],
   "source": [
    "for col in data.columns:\n",
    "    data[col] = normalizer.fit_transform(data[[col]])"
   ]
  },
  {
   "cell_type": "code",
   "execution_count": 101,
   "metadata": {},
   "outputs": [
    {
     "data": {
      "text/html": [
       "<div>\n",
       "<style scoped>\n",
       "    .dataframe tbody tr th:only-of-type {\n",
       "        vertical-align: middle;\n",
       "    }\n",
       "\n",
       "    .dataframe tbody tr th {\n",
       "        vertical-align: top;\n",
       "    }\n",
       "\n",
       "    .dataframe thead th {\n",
       "        text-align: right;\n",
       "    }\n",
       "</style>\n",
       "<table border=\"1\" class=\"dataframe\">\n",
       "  <thead>\n",
       "    <tr style=\"text-align: right;\">\n",
       "      <th></th>\n",
       "      <th>Population</th>\n",
       "      <th>latitude</th>\n",
       "      <th>longitude</th>\n",
       "      <th>Café</th>\n",
       "      <th>Hotel</th>\n",
       "      <th>Moroccan Restaurant</th>\n",
       "      <th>Coffee Shop</th>\n",
       "      <th>Diner</th>\n",
       "    </tr>\n",
       "    <tr>\n",
       "      <th>City</th>\n",
       "      <th></th>\n",
       "      <th></th>\n",
       "      <th></th>\n",
       "      <th></th>\n",
       "      <th></th>\n",
       "      <th></th>\n",
       "      <th></th>\n",
       "      <th></th>\n",
       "    </tr>\n",
       "  </thead>\n",
       "  <tbody>\n",
       "    <tr>\n",
       "      <th>Casablanca</th>\n",
       "      <td>6.950718</td>\n",
       "      <td>-0.035651</td>\n",
       "      <td>-0.196372</td>\n",
       "      <td>2.137331</td>\n",
       "      <td>3.411629</td>\n",
       "      <td>1.757776</td>\n",
       "      <td>1.125446</td>\n",
       "      <td>0.956183</td>\n",
       "    </tr>\n",
       "    <tr>\n",
       "      <th>Fez</th>\n",
       "      <td>1.941305</td>\n",
       "      <td>0.097944</td>\n",
       "      <td>-0.034972</td>\n",
       "      <td>-0.712444</td>\n",
       "      <td>-0.325360</td>\n",
       "      <td>0.441899</td>\n",
       "      <td>1.125446</td>\n",
       "      <td>-0.378489</td>\n",
       "    </tr>\n",
       "    <tr>\n",
       "      <th>Tangier</th>\n",
       "      <td>1.575541</td>\n",
       "      <td>0.627486</td>\n",
       "      <td>-0.083815</td>\n",
       "      <td>2.137331</td>\n",
       "      <td>1.543135</td>\n",
       "      <td>0.441899</td>\n",
       "      <td>-0.478913</td>\n",
       "      <td>6.294871</td>\n",
       "    </tr>\n",
       "    <tr>\n",
       "      <th>Marrakesh</th>\n",
       "      <td>1.532969</td>\n",
       "      <td>-0.634115</td>\n",
       "      <td>-0.219342</td>\n",
       "      <td>3.562218</td>\n",
       "      <td>6.525787</td>\n",
       "      <td>7.679225</td>\n",
       "      <td>-0.478913</td>\n",
       "      <td>-0.378489</td>\n",
       "    </tr>\n",
       "    <tr>\n",
       "      <th>Salé</th>\n",
       "      <td>1.447285</td>\n",
       "      <td>0.101055</td>\n",
       "      <td>-0.146465</td>\n",
       "      <td>0.000000</td>\n",
       "      <td>-0.325360</td>\n",
       "      <td>-0.216040</td>\n",
       "      <td>-0.478913</td>\n",
       "      <td>-0.378489</td>\n",
       "    </tr>\n",
       "    <tr>\n",
       "      <th>...</th>\n",
       "      <td>...</td>\n",
       "      <td>...</td>\n",
       "      <td>...</td>\n",
       "      <td>...</td>\n",
       "      <td>...</td>\n",
       "      <td>...</td>\n",
       "      <td>...</td>\n",
       "      <td>...</td>\n",
       "    </tr>\n",
       "    <tr>\n",
       "      <th>M'diq</th>\n",
       "      <td>-0.411792</td>\n",
       "      <td>0.598997</td>\n",
       "      <td>-0.054012</td>\n",
       "      <td>1.424887</td>\n",
       "      <td>-0.325360</td>\n",
       "      <td>-0.216040</td>\n",
       "      <td>-0.478913</td>\n",
       "      <td>-0.378489</td>\n",
       "    </tr>\n",
       "    <tr>\n",
       "      <th>Sidi Bennour</th>\n",
       "      <td>-0.412710</td>\n",
       "      <td>-0.322625</td>\n",
       "      <td>-0.246321</td>\n",
       "      <td>0.712444</td>\n",
       "      <td>-0.325360</td>\n",
       "      <td>-0.216040</td>\n",
       "      <td>1.125446</td>\n",
       "      <td>0.956183</td>\n",
       "    </tr>\n",
       "    <tr>\n",
       "      <th>Midelt</th>\n",
       "      <td>-0.413849</td>\n",
       "      <td>-0.313639</td>\n",
       "      <td>-0.017837</td>\n",
       "      <td>0.000000</td>\n",
       "      <td>0.297472</td>\n",
       "      <td>-0.216040</td>\n",
       "      <td>1.125446</td>\n",
       "      <td>-0.378489</td>\n",
       "    </tr>\n",
       "    <tr>\n",
       "      <th>Azrou</th>\n",
       "      <td>-0.415975</td>\n",
       "      <td>-0.083955</td>\n",
       "      <td>-0.047730</td>\n",
       "      <td>0.000000</td>\n",
       "      <td>0.297472</td>\n",
       "      <td>-0.216040</td>\n",
       "      <td>-0.478913</td>\n",
       "      <td>-0.378489</td>\n",
       "    </tr>\n",
       "    <tr>\n",
       "      <th>Drargua</th>\n",
       "      <td>-0.423561</td>\n",
       "      <td>-1.012113</td>\n",
       "      <td>-0.311575</td>\n",
       "      <td>-0.712444</td>\n",
       "      <td>-0.325360</td>\n",
       "      <td>-0.216040</td>\n",
       "      <td>-0.478913</td>\n",
       "      <td>-0.378489</td>\n",
       "    </tr>\n",
       "  </tbody>\n",
       "</table>\n",
       "<p>67 rows × 8 columns</p>\n",
       "</div>"
      ],
      "text/plain": [
       "              Population  latitude  longitude      Café     Hotel  \\\n",
       "City                                                                \n",
       "Casablanca      6.950718 -0.035651  -0.196372  2.137331  3.411629   \n",
       "Fez             1.941305  0.097944  -0.034972 -0.712444 -0.325360   \n",
       "Tangier         1.575541  0.627486  -0.083815  2.137331  1.543135   \n",
       "Marrakesh       1.532969 -0.634115  -0.219342  3.562218  6.525787   \n",
       "Salé            1.447285  0.101055  -0.146465  0.000000 -0.325360   \n",
       "...                  ...       ...        ...       ...       ...   \n",
       "M'diq          -0.411792  0.598997  -0.054012  1.424887 -0.325360   \n",
       "Sidi Bennour   -0.412710 -0.322625  -0.246321  0.712444 -0.325360   \n",
       "Midelt         -0.413849 -0.313639  -0.017837  0.000000  0.297472   \n",
       "Azrou          -0.415975 -0.083955  -0.047730  0.000000  0.297472   \n",
       "Drargua        -0.423561 -1.012113  -0.311575 -0.712444 -0.325360   \n",
       "\n",
       "              Moroccan Restaurant  Coffee Shop     Diner  \n",
       "City                                                      \n",
       "Casablanca               1.757776     1.125446  0.956183  \n",
       "Fez                      0.441899     1.125446 -0.378489  \n",
       "Tangier                  0.441899    -0.478913  6.294871  \n",
       "Marrakesh                7.679225    -0.478913 -0.378489  \n",
       "Salé                    -0.216040    -0.478913 -0.378489  \n",
       "...                           ...          ...       ...  \n",
       "M'diq                   -0.216040    -0.478913 -0.378489  \n",
       "Sidi Bennour            -0.216040     1.125446  0.956183  \n",
       "Midelt                  -0.216040     1.125446 -0.378489  \n",
       "Azrou                   -0.216040    -0.478913 -0.378489  \n",
       "Drargua                 -0.216040    -0.478913 -0.378489  \n",
       "\n",
       "[67 rows x 8 columns]"
      ]
     },
     "execution_count": 101,
     "metadata": {},
     "output_type": "execute_result"
    }
   ],
   "source": [
    "data"
   ]
  },
  {
   "cell_type": "markdown",
   "metadata": {},
   "source": [
    "Now it better, let's run the `KMeans` to cluster the data"
   ]
  },
  {
   "cell_type": "code",
   "execution_count": 102,
   "metadata": {},
   "outputs": [],
   "source": [
    "from sklearn.cluster import KMeans"
   ]
  },
  {
   "cell_type": "code",
   "execution_count": 103,
   "metadata": {},
   "outputs": [],
   "source": [
    "segmenter = KMeans(n_clusters=4)"
   ]
  },
  {
   "cell_type": "code",
   "execution_count": 105,
   "metadata": {},
   "outputs": [
    {
     "data": {
      "text/plain": [
       "KMeans(algorithm='auto', copy_x=True, init='k-means++', max_iter=300,\n",
       "       n_clusters=4, n_init=10, n_jobs=None, precompute_distances='auto',\n",
       "       random_state=None, tol=0.0001, verbose=0)"
      ]
     },
     "execution_count": 105,
     "metadata": {},
     "output_type": "execute_result"
    }
   ],
   "source": [
    "segmenter.fit(data)"
   ]
  },
  {
   "cell_type": "code",
   "execution_count": 106,
   "metadata": {},
   "outputs": [
    {
     "name": "stdout",
     "output_type": "stream",
     "text": [
      "[2 1 0 2 1 1 0 1 1 1 1 1 1 1 1 1 1 1 1 1 1 1 1 1 1 1 1 1 1 1 1 1 1 1 1 1 1\n",
      " 1 1 1 1 1 1 1 1 1 1 1 1 3 1 1 1 1 1 1 1 1 1 1 1 0 1 1 1 1 1]\n"
     ]
    }
   ],
   "source": [
    "print(segmenter.labels_)"
   ]
  },
  {
   "cell_type": "markdown",
   "metadata": {},
   "source": [
    "### Plotting the results"
   ]
  },
  {
   "cell_type": "code",
   "execution_count": 108,
   "metadata": {},
   "outputs": [],
   "source": [
    "import folium"
   ]
  },
  {
   "cell_type": "code",
   "execution_count": 149,
   "metadata": {},
   "outputs": [
    {
     "data": {
      "text/plain": [
       "(-9, 0)"
      ]
     },
     "execution_count": 149,
     "metadata": {},
     "output_type": "execute_result"
    },
    {
     "data": {
      "image/png": "[encoded data removed]",
      "text/plain": [
       "<Figure size 432x288 with 1 Axes>"
      ]
     },
     "metadata": {
      "needs_background": "light"
     },
     "output_type": "display_data"
    }
   ],
   "source": [
    "position = [31.79, -7.02]\n",
    "morocco = folium.Map(position, zoom_start=7)\n",
    "sns.set_palette('muted')\n",
    "data = pd.read_csv(\"morocan_cities.csv\", index_col=0)  #normalizatin loose the coordinates\n",
    "data['cluster'] = segmenter.labels_.astype('int')\n",
    "ax = sns.scatterplot(x='latitude', y = 'longitude', hue='cluster',data=data)\n",
    "ax.set_xlim([25, 36])\n",
    "ax.set_ylim([-9,0])"
   ]
  },
  {
   "cell_type": "code",
   "execution_count": null,
   "metadata": {},
   "outputs": [],
   "source": []
  },
  {
   "cell_type": "code",
   "execution_count": null,
   "metadata": {},
   "outputs": [],
   "source": []
  }
 ],
 "metadata": {
  "kernelspec": {
   "display_name": "Python 3",
   "language": "python",
   "name": "python3"
  },
  "language_info": {
   "codemirror_mode": {
    "name": "ipython",
    "version": 3
   },
   "file_extension": ".py",
   "mimetype": "text/x-python",
   "name": "python",
   "nbconvert_exporter": "python",
   "pygments_lexer": "ipython3",
   "version": "3.7.6"
  }
 },
 "nbformat": 4,
 "nbformat_minor": 4
}
